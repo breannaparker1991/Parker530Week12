{
 "cells": [
  {
   "cell_type": "code",
   "execution_count": null,
   "metadata": {},
   "outputs": [],
   "source": [
    "def ReadData2019(filename='ACSST1Y2019.csv'):\n",
    "    \"\"\"Reads filename\n",
    "\n",
    "    filename: string\n",
    "\n",
    "    returns: pandas \n",
    "    \"\"\"\n",
    "    data = pandas.read_csv(filename, header=None, skiprows=9)\n",
    "\n",
    "    return df\n",
    "def ReadData2021(filename='ACSST1Y2021.csv'):\n",
    "    \"\"\"Reads filename \n",
    "\n",
    "    filename: string\n",
    "\n",
    "    returns: pandas\n",
    "    \"\"\"\n",
    "    data = pandas.read_csv(filename, header=None, skiprows=9)\n",
    "    cols = data[[0, 1]]\n",
    "        \n",
    "    res = []\n",
    "    for _, row in cols.iterrows():\n",
    "        label, freq = row.values\n",
    "        freq = int(freq.replace(',', ''))\n",
    "\n",
    "        t = label.split()\n",
    "        low, high = Clean(t[0]), Clean(t[-1])\n",
    "\n",
    "        res.append((high, freq))\n",
    "\n",
    "    df = pandas.DataFrame(res)\n",
    "    # correct the first range\n",
    "    df.loc[0, 0] -= 1\n",
    "    # compute the cumulative sum of the freqs\n",
    "    df[2] = df[1].cumsum()\n",
    "    # normalize the cumulative freqs\n",
    "    total = df[2][41]\n",
    "    df[3] = df[2] / total\n",
    "    # add column names\n",
    "    df.columns = ['income',  'freq', 'cumsum', 'ps']\n",
    "    return df\n",
    "df2019 = ReadData2019()\n",
    "df2021 = ReadData2021()"
   ]
  }
 ],
 "metadata": {
  "kernelspec": {
   "display_name": "Python 3 (ipykernel)",
   "language": "python",
   "name": "python3"
  },
  "language_info": {
   "codemirror_mode": {
    "name": "ipython",
    "version": 3
   },
   "file_extension": ".py",
   "mimetype": "text/x-python",
   "name": "python",
   "nbconvert_exporter": "python",
   "pygments_lexer": "ipython3",
   "version": "3.9.5"
  },
  "vscode": {
   "interpreter": {
    "hash": "369f2c481f4da34e4445cda3fffd2e751bd1c4d706f27375911949ba6bb62e1c"
   }
  }
 },
 "nbformat": 4,
 "nbformat_minor": 2
}
